{
 "cells": [
  {
   "cell_type": "markdown",
   "metadata": {},
   "source": [
    "# Data Setup\n",
    "Configuring CosmosDB"
   ]
  },
  {
   "cell_type": "code",
   "execution_count": 23,
   "metadata": {},
   "outputs": [
    {
     "name": "stdout",
     "output_type": "stream",
     "text": [
      "Inserting 5 sample KYC records...\n",
      "Upserted record for Satya Narayana Nadella\n",
      "Upserted record for Mustafa Suleyman\n",
      "Upserted record for Samuel Harris Altman\n",
      "Upserted record for Alain Berset\n",
      "Upserted record for Sal Khan\n",
      "Done.\n"
     ]
    }
   ],
   "source": [
    "!python initialize_cosmos_db.py"
   ]
  },
  {
   "cell_type": "markdown",
   "metadata": {},
   "source": [
    "# Environment Setup\n",
    "Import required libraries and load environment variables using python-dotenv."
   ]
  },
  {
   "cell_type": "code",
   "execution_count": null,
   "metadata": {},
   "outputs": [],
   "source": [
    "!pip install -r requirements.txt"
   ]
  },
  {
   "cell_type": "code",
   "execution_count": 25,
   "metadata": {},
   "outputs": [
    {
     "data": {
      "text/plain": [
       "True"
      ]
     },
     "execution_count": 25,
     "metadata": {},
     "output_type": "execute_result"
    }
   ],
   "source": [
    "# Import required libraries\n",
    "import os\n",
    "from dotenv import load_dotenv\n",
    "\n",
    "# Load environment variables from .env file\n",
    "load_dotenv(override=True)"
   ]
  },
  {
   "cell_type": "markdown",
   "metadata": {},
   "source": [
    "# Azure AI Client Configuration\n",
    "Configure Azure AI client using DefaultAzureCredential and connection string."
   ]
  },
  {
   "cell_type": "code",
   "execution_count": 26,
   "metadata": {},
   "outputs": [],
   "source": [
    "# Import Azure identity and AI project client libraries\n",
    "from azure.identity import DefaultAzureCredential\n",
    "from azure.ai.projects import AIProjectClient\n",
    "\n",
    "# Initialize Azure AI client using DefaultAzureCredential and connection string from environment variables\n",
    "credential = DefaultAzureCredential()\n",
    "project_client = AIProjectClient.from_connection_string(\n",
    "    credential=credential,\n",
    "    conn_str=os.environ[\"PROJECT_CONNECTION_STRING\"]\n",
    ")"
   ]
  },
  {
   "cell_type": "markdown",
   "metadata": {},
   "source": [
    "# Bing Search Integration\n",
    "Set up Bing search tool using BingGroundingTool and handle connection configuration."
   ]
  },
  {
   "cell_type": "code",
   "execution_count": 27,
   "metadata": {},
   "outputs": [
    {
     "name": "stdout",
     "output_type": "stream",
     "text": [
      "bing > connected\n"
     ]
    }
   ],
   "source": [
    "from azure.ai.projects.models import BingGroundingTool, FunctionTool, ToolSet\n",
    "\n",
    "# Initialize Bing tool as None\n",
    "bing_tool = None\n",
    "\n",
    "# Get Bing connection name from environment variables\n",
    "bing_connection_name = os.environ.get(\"BING_CONNECTION_NAME\")\n",
    "\n",
    "# If Bing connection name is available, attempt to set up Bing tool\n",
    "if bing_connection_name:\n",
    "    try:\n",
    "        # Retrieve Bing connection using project client\n",
    "        bing_connection = project_client.connections.get(connection_name=bing_connection_name)\n",
    "        conn_id = bing_connection.id\n",
    "        \n",
    "        # Initialize BingGroundingTool with the connection ID\n",
    "        bing_tool = BingGroundingTool(connection_id=conn_id)\n",
    "        print(\"bing > connected\")\n",
    "    except Exception as ex:\n",
    "        # Handle any exceptions that occur during Bing tool setup\n",
    "        print(f\"bing > not connected: {ex}\")"
   ]
  },
  {
   "cell_type": "markdown",
   "metadata": {},
   "source": [
    "# Agent Configuration\n",
    "Create or update the KYC agent with specific instructions and model deployment."
   ]
  },
  {
   "cell_type": "code",
   "execution_count": 28,
   "metadata": {},
   "outputs": [],
   "source": [
    "# Import required models and tools from azure.ai.projects\n",
    "from azure.ai.projects.models import FunctionTool, ToolSet\n",
    "\n",
    "# Import KYC functions\n",
    "from kyc_functions import get_kyc_data, update_kyc_data\n",
    "\n",
    "# Define agent name\n",
    "AGENT_NAME = \"kyc-agent\"\n",
    "\n",
    "# Search for existing agent with the specified name\n",
    "found_agent = next(\n",
    "    (a for a in project_client.agents.list_agents().data if a.name == AGENT_NAME),\n",
    "    None\n",
    ")\n",
    "\n",
    "# Build toolset and add Bing tool if available\n",
    "toolset = ToolSet()\n",
    "if bing_tool:\n",
    "    toolset.add(bing_tool)\n",
    "toolset.add(FunctionTool({get_kyc_data, update_kyc_data}))\n",
    "\n",
    "# Define agent instructions\n",
    "instructions = \"\"\"\n",
    "You are a helpful KYC agent. For every question the user asks, you should:\n",
    "1. Retrieve KYC data from Cosmos DB using get_kyc_data\n",
    "2. Search via Bing search request to verify the data from the KYC database is up to date \n",
    "\n",
    "If you find any outdated or conflicting data, propose to update the KYC data using update_kyc_data. Before updating any KYC data, you should first confirm it with the user. Visualize what the change will be (Before and After values).\n",
    "\n",
    "If the data seems to be up to date, provide detailed answers to the user. Always include the source of the information in the beginning of your answer (in quotes).\n",
    "\"\"\"\n",
    "\n",
    "# Create or update agent with the specified model, name, instructions, and toolset\n",
    "if found_agent:\n",
    "    agent = project_client.agents.update_agent(\n",
    "        assistant_id=found_agent.id,\n",
    "        model=found_agent.model,\n",
    "        instructions=found_agent.instructions,\n",
    "        toolset=toolset\n",
    "    )\n",
    "else:\n",
    "    agent = project_client.agents.create_agent(\n",
    "        model=os.environ.get(\"MODEL_DEPLOYMENT_NAME\", \"gpt-4\"),\n",
    "        name=AGENT_NAME,\n",
    "        instructions=instructions,\n",
    "        toolset=toolset\n",
    "    )"
   ]
  },
  {
   "cell_type": "markdown",
   "metadata": {},
   "source": [
    "# Toolset and Functions\n",
    "Configure the toolset with Bing search and KYC functions for data retrieval and updates."
   ]
  },
  {
   "cell_type": "code",
   "execution_count": 29,
   "metadata": {},
   "outputs": [],
   "source": [
    "# Import required models and tools from azure.ai.projects\n",
    "from azure.ai.projects.models import FunctionTool, ToolSet\n",
    "\n",
    "# Import KYC functions\n",
    "from kyc_functions import get_kyc_data, update_kyc_data\n",
    "\n",
    "# Define agent name\n",
    "AGENT_NAME = \"kyc-agent\"\n",
    "\n",
    "# Search for existing agent with the specified name\n",
    "found_agent = next(\n",
    "    (a for a in project_client.agents.list_agents().data if a.name == AGENT_NAME),\n",
    "    None\n",
    ")\n",
    "\n",
    "# Build toolset and add Bing tool if available\n",
    "toolset = ToolSet()\n",
    "if bing_tool:\n",
    "    toolset.add(bing_tool)\n",
    "toolset.add(FunctionTool({get_kyc_data, update_kyc_data}))\n",
    "\n",
    "# Define agent instructions\n",
    "instructions = \"\"\"\n",
    "You are a helpful KYC agent. For every question the user asks, you should:\n",
    "1. Retrieve KYC data from Cosmos DB using get_kyc_data\n",
    "2. Search via Bing search request to verify the data from the KYC database is up to date \n",
    "\n",
    "If you find any outdated or conflicting data, propose to update the KYC data using update_kyc_data. Before updating any KYC data, you should first confirm it with the user. Visualize what the change will be (Before and After values).\n",
    "\n",
    "If the data seems to be up to date, provide detailed answers to the user. Always include the source of the information in the beginning of your answer (in quotes).\n",
    "\"\"\"\n",
    "\n",
    "# Create or update agent with the specified model, name, instructions, and toolset\n",
    "if found_agent:\n",
    "    agent = project_client.agents.update_agent(\n",
    "        assistant_id=found_agent.id,\n",
    "        model=found_agent.model,\n",
    "        instructions=found_agent.instructions,\n",
    "        toolset=toolset\n",
    "    )\n",
    "else:\n",
    "    agent = project_client.agents.create_agent(\n",
    "        model=os.environ.get(\"MODEL_DEPLOYMENT_NAME\", \"gpt-4o\"),\n",
    "        name=AGENT_NAME,\n",
    "        instructions=instructions,\n",
    "        toolset=toolset\n",
    "    )"
   ]
  },
  {
   "cell_type": "markdown",
   "metadata": {},
   "source": [
    "# Gradio Interface Setup\n",
    "Create interactive chat interface using Gradio with example questions and chat history management."
   ]
  },
  {
   "cell_type": "code",
   "execution_count": null,
   "metadata": {},
   "outputs": [],
   "source": [
    "# Import Gradio library for creating the chat interface\n",
    "import gradio as gr\n",
    "\n",
    "# Import the function to create the chat interface\n",
    "from chat_ui import create_chat_interface\n",
    "\n",
    "# Create a new thread for the chat\n",
    "thread = project_client.agents.create_thread()\n",
    "\n",
    "# Create the chat interface using the project client, agent, and thread\n",
    "azure_kyc_chat = create_chat_interface(project_client, agent, thread)\n",
    "\n",
    "# Define the Gradio Blocks interface\n",
    "with gr.Blocks(title=\"Azure AI - FSI Agent Labs\") as demo:\n",
    "    gr.Markdown(\"## Azure AI - FSI Agent Lab with Cosmos DB + Bing\")\n",
    "\n",
    "    # Create a chatbot component\n",
    "    chatbot = gr.Chatbot(type=\"messages\")\n",
    "    \n",
    "    # Create a textbox for user input\n",
    "    input_box = gr.Textbox(label=\"Ask the KYC agent...\")\n",
    "\n",
    "    # Function to clear chat history\n",
    "    def clear_history():\n",
    "        global thread\n",
    "        thread = project_client.agents.create_thread()\n",
    "        return []\n",
    "\n",
    "    # Function to set example question\n",
    "    def set_example_question(question):\n",
    "        return question\n",
    "\n",
    "    # Add a button to clear chat history\n",
    "    with gr.Row():\n",
    "        gr.Button(\"Clear Chat\").click(fn=clear_history, outputs=chatbot)\n",
    "    \n",
    "    # Add example questions\n",
    "    gr.Markdown(\"### Example Questions\")\n",
    "    with gr.Row():\n",
    "        q1 = gr.Button(\"Please validate / update the PEP (Politically Exposed Person) status of Alain Berset based on what you find on the web.\")\n",
    "        q2 = gr.Button(\"Is Satya Nadella a customer?\")\n",
    "\n",
    "    # Set up example question buttons to populate the input box and trigger the chat\n",
    "    for btn in [q1, q2]:\n",
    "        btn.click(fn=set_example_question, inputs=btn, outputs=input_box) \\\n",
    "           .then(azure_kyc_chat, inputs=[input_box, chatbot], outputs=[chatbot, input_box]) \\\n",
    "           .then(lambda: \"\", outputs=input_box)\n",
    "\n",
    "    # Set up the input box to submit the chat and clear the input box after submission\n",
    "    input_box.submit(azure_kyc_chat, inputs=[input_box, chatbot], outputs=[chatbot, input_box]) \\\n",
    "             .then(lambda: \"\", outputs=input_box)\n",
    "\n",
    "# Launch the Gradio interface with debugging enabled\n",
    "demo.queue().launch(debug=True)"
   ]
  }
 ],
 "metadata": {
  "kernelspec": {
   "display_name": ".venv",
   "language": "python",
   "name": "python3"
  },
  "language_info": {
   "codemirror_mode": {
    "name": "ipython",
    "version": 3
   },
   "file_extension": ".py",
   "mimetype": "text/x-python",
   "name": "python",
   "nbconvert_exporter": "python",
   "pygments_lexer": "ipython3",
   "version": "3.13.2"
  }
 },
 "nbformat": 4,
 "nbformat_minor": 2
}
