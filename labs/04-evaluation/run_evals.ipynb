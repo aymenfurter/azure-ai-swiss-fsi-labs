{
 "cells": [
  {
   "cell_type": "markdown",
   "metadata": {},
   "source": [
    "# Setup Dependencies and Imports\n",
    "Import required libraries including Azure AI Project SDK, dotenv for environment variables, and custom KYC functions."
   ]
  },
  {
   "cell_type": "code",
   "execution_count": null,
   "metadata": {},
   "outputs": [],
   "source": [
    "# Setup Dependencies and Imports\n",
    "\n",
    "# Import required libraries\n",
    "import os\n",
    "import json\n",
    "from datetime import datetime\n",
    "from dotenv import load_dotenv\n",
    "from azure.identity import DefaultAzureCredential\n",
    "from azure.ai.projects import AIProjectClient\n",
    "from azure.ai.projects.models import FunctionTool, ToolSet\n",
    "\n",
    "# Import custom KYC functions\n",
    "from kyc_functions import get_kyc_data, update_kyc_data\n",
    "\n",
    "# Load environment variables\n",
    "load_dotenv(override=True)"
   ]
  },
  {
   "cell_type": "markdown",
   "metadata": {},
   "source": [
    "# Configure Environment\n",
    "Load environment variables and setup authentication using DefaultAzureCredential for Azure services."
   ]
  },
  {
   "cell_type": "code",
   "execution_count": null,
   "metadata": {},
   "outputs": [],
   "source": [
    "# Configure Environment\n",
    "\n",
    "# Initialize Azure AI client with DefaultAzureCredential\n",
    "credential = DefaultAzureCredential()\n",
    "project_client = AIProjectClient.from_connection_string(\n",
    "    credential=credential,\n",
    "    conn_str=os.environ[\"PROJECT_CONNECTION_STRING\"]\n",
    ")"
   ]
  },
  {
   "cell_type": "markdown",
   "metadata": {},
   "source": [
    "# Define Helper Functions\n",
    "Define functions for loading evaluation questions from JSONL file and processing evaluation results."
   ]
  },
  {
   "cell_type": "code",
   "execution_count": null,
   "metadata": {},
   "outputs": [],
   "source": [
    "# Define Helper Functions\n",
    "\n",
    "def load_questions():\n",
    "    \"\"\"\n",
    "    Load evaluation questions from a JSONL file.\n",
    "    \"\"\"\n",
    "    notebook_dir = os.path.abspath(os.path.dirname(''))\n",
    "    eval_path = os.path.join(notebook_dir, 'evals.jsonl')\n",
    "\n",
    "    questions = []\n",
    "    with open(eval_path, 'r') as f:\n",
    "        for line in f:\n",
    "            questions.append(json.loads(line))\n",
    "    return questions\n",
    "\n",
    "def setup_agent(project_client):\n",
    "    \"\"\"\n",
    "    Setup the KYC agent with the required tools and instructions.\n",
    "    \"\"\"\n",
    "    AGENT_NAME = \"kyc-agent-eval\"\n",
    "    \n",
    "    # Build toolset\n",
    "    toolset = ToolSet()\n",
    "    toolset.add(FunctionTool({get_kyc_data, update_kyc_data}))\n",
    "    \n",
    "    # Create agent\n",
    "    agent = project_client.agents.create_agent(\n",
    "        model=os.environ.get(\"MODEL_DEPLOYMENT_NAME\", \"gpt-4\"),\n",
    "        name=AGENT_NAME,\n",
    "        instructions=\"\"\"You are a helpful KYC agent. For every question, you should:\n",
    "1. Retrieve KYC data from Cosmos DB using get_kyc_data\n",
    "2. Provide a clear and concise answer based on the available data\"\"\",\n",
    "        toolset=toolset\n",
    "    )\n",
    "    return agent\n",
    "\n",
    "def run_evaluation(project_client, agent, questions):\n",
    "    \"\"\"\n",
    "    Run the evaluation for each question and save the results.\n",
    "    \"\"\"\n",
    "    results = []\n",
    "    thread = project_client.agents.create_thread()\n",
    "    \n",
    "    # Create output file path once at the start\n",
    "    notebook_dir = os.path.abspath(os.path.dirname(''))\n",
    "    output_dir = os.path.join(notebook_dir, 'eval_results')\n",
    "    os.makedirs(output_dir, exist_ok=True)\n",
    "    output_file = os.path.join(output_dir, \n",
    "                              f'eval_results_{datetime.utcnow().strftime(\"%Y%m%d_%H%M%S\")}.jsonl')\n",
    "    \n",
    "    for question in questions:\n",
    "        print(f\"\\nProcessing question {question['id']}: {question['question']}\")\n",
    "        \n",
    "        # Send question\n",
    "        message = project_client.agents.create_message(\n",
    "            thread_id=thread.id,\n",
    "            role=\"user\",\n",
    "            content=question['question']\n",
    "        )\n",
    "        \n",
    "        # Get response\n",
    "        kyc_context = None\n",
    "        response = \"\"\n",
    "        \n",
    "        # Process the run and capture tool outputs\n",
    "        run = project_client.agents.create_and_process_run(thread_id=thread.id, assistant_id=agent.id)\n",
    "        if run.status == \"failed\":\n",
    "            print(f\"Run failed: {run.last_error}\")\n",
    "            continue\n",
    "        \n",
    "        # Get run steps to find KYC context from tool calls\n",
    "        run_steps = project_client.agents.list_run_steps(run_id=run.id, thread_id=thread.id)\n",
    "        for step in run_steps.data:\n",
    "            if step.type == \"tool_calls\" and step.step_details and step.step_details.tool_calls:\n",
    "                for tool_call in step.step_details.tool_calls:\n",
    "                    if tool_call.function.name == \"get_kyc_data\":\n",
    "                        kyc_context = tool_call.function.output\n",
    "\n",
    "        # Fetch the final response from messages\n",
    "        messages = project_client.agents.list_messages(thread_id=thread.id)\n",
    "        latest_message = next((msg for msg in messages.data if msg.role == \"assistant\"), None)\n",
    "        if latest_message and latest_message.content:\n",
    "            response = latest_message.content[0].text.value\n",
    "        \n",
    "        # Store result\n",
    "        result = {\n",
    "            \"question_id\": question[\"id\"],\n",
    "            \"question\": question[\"question\"],\n",
    "            \"ground_truth\": question[\"ground_truth\"],\n",
    "            \"kyc_context\": kyc_context,\n",
    "            \"response\": response.strip()\n",
    "        }\n",
    "        results.append(result)\n",
    "        \n",
    "        # Save result to the single file\n",
    "        with open(output_file, 'a') as f:\n",
    "            f.write(json.dumps(result, ensure_ascii=False) + '\\n')\n",
    "        \n",
    "        print(f\"Completed question {question['id']}\")"
   ]
  },
  {
   "cell_type": "markdown",
   "metadata": {},
   "source": [
    "# Create Azure AI Project Client\n",
    "Initialize the AI Project client with connection string and credentials."
   ]
  },
  {
   "cell_type": "code",
   "execution_count": null,
   "metadata": {},
   "outputs": [],
   "source": [
    "# Create Azure AI Project Client\n",
    "\n",
    "# Initialize Azure AI client with DefaultAzureCredential\n",
    "credential = DefaultAzureCredential()\n",
    "project_client = AIProjectClient.from_connection_string(\n",
    "    credential=credential,\n",
    "    conn_str=os.environ[\"PROJECT_CONNECTION_STRING\"]\n",
    ")"
   ]
  },
  {
   "cell_type": "markdown",
   "metadata": {},
   "source": [
    "# Setup Agent and Tools\n",
    "Create a KYC agent with the required toolset including get_kyc_data and update_kyc_data functions."
   ]
  },
  {
   "cell_type": "code",
   "execution_count": null,
   "metadata": {},
   "outputs": [],
   "source": [
    "# Setup Agent and Tools\n",
    "\n",
    "# Define the function to setup the KYC agent with the required tools and instructions\n",
    "def setup_agent(project_client):\n",
    "    \"\"\"\n",
    "    Setup the KYC agent with the required tools and instructions.\n",
    "    \"\"\"\n",
    "    AGENT_NAME = \"kyc-agent-eval\"\n",
    "    \n",
    "    # Build toolset\n",
    "    toolset = ToolSet()\n",
    "    toolset.add(FunctionTool({get_kyc_data, update_kyc_data}))\n",
    "    \n",
    "    # Create agent\n",
    "    agent = project_client.agents.create_agent(\n",
    "        model=os.environ.get(\"MODEL_DEPLOYMENT_NAME\", \"gpt-4\"),\n",
    "        name=AGENT_NAME,\n",
    "        instructions=\"\"\"You are a helpful KYC agent. For every question, you should:\n",
    "1. Retrieve KYC data from Cosmos DB using get_kyc_data\n",
    "2. Provide a clear and concise answer based on the available data\"\"\",\n",
    "        toolset=toolset\n",
    "    )\n",
    "    return agent\n",
    "\n",
    "# Setup the agent\n",
    "agent = setup_agent(project_client)"
   ]
  },
  {
   "cell_type": "markdown",
   "metadata": {},
   "source": [
    "# Run Evaluation Process\n",
    "Execute the evaluation loop to process questions, collect responses, and save results to output files."
   ]
  },
  {
   "cell_type": "code",
   "execution_count": null,
   "metadata": {},
   "outputs": [],
   "source": [
    "# Run Evaluation Process\n",
    "\n",
    "# Load evaluation questions\n",
    "questions = load_questions()\n",
    "\n",
    "# Run the evaluation process\n",
    "run_evaluation(project_client, agent, questions)"
   ]
  }
 ],
 "metadata": {
  "kernelspec": {
   "display_name": ".venv",
   "language": "python",
   "name": "python3"
  },
  "language_info": {
   "codemirror_mode": {
    "name": "ipython",
    "version": 3
   },
   "file_extension": ".py",
   "mimetype": "text/x-python",
   "name": "python",
   "nbconvert_exporter": "python",
   "pygments_lexer": "ipython3",
   "version": "3.13.2"
  }
 },
 "nbformat": 4,
 "nbformat_minor": 2
}
